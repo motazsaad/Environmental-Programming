{
  "cells": [
    {
      "cell_type": "markdown",
      "metadata": {
        "id": "IOW-whqoAb1P"
      },
      "source": [
        "# Function \n",
        "## Why Functions?\n",
        "\n",
        "* Reuse code instead of rewrite \n",
        "* To make the code modular (to simplify the code) \n"
      ]
    },
    {
      "cell_type": "code",
      "execution_count": null,
      "metadata": {
        "id": "Kt6EbSnPAb1V"
      },
      "outputs": [],
      "source": [
        "# how to define a function \n",
        "def f1():\n",
        "    pass # empty statement  \n"
      ]
    },
    {
      "cell_type": "markdown",
      "metadata": {
        "id": "O3xAor5DAb1X"
      },
      "source": [
        "# naming convension ==> use verb phrase "
      ]
    },
    {
      "cell_type": "code",
      "source": [
        "# bad function name \n",
        "def car():\n",
        "  pass \n",
        "\n",
        "# good function name \n",
        "def increase_car_speed():\n",
        "  pass \n",
        "\n",
        "# good function name \n",
        "def increase_speed():\n",
        "  pass \n",
        "\n",
        "# good function name\n",
        "def speed_up():\n",
        "  pass "
      ],
      "metadata": {
        "id": "pvwNfDNVD-EO"
      },
      "execution_count": null,
      "outputs": []
    },
    {
      "cell_type": "markdown",
      "source": [
        "# Arguments & parameters "
      ],
      "metadata": {
        "id": "hnw1IpBEEp-m"
      }
    },
    {
      "cell_type": "code",
      "source": [
        "# lang is a paramenter \n",
        "def greeting1(lang): \n",
        "  if lang == 'es':\n",
        "    print('hola')\n",
        "  elif lang == 'fr':\n",
        "    print('bonjour')\n",
        "  else:\n",
        "    print('hello')"
      ],
      "metadata": {
        "id": "nr46Vhx-EoR2"
      },
      "execution_count": null,
      "outputs": []
    },
    {
      "cell_type": "code",
      "source": [
        "greeting1('es') # es is an argument "
      ],
      "metadata": {
        "colab": {
          "base_uri": "https://localhost:8080/"
        },
        "id": "4oJm-tYgFN0W",
        "outputId": "8c9435a4-4789-489d-cbdd-14deb9c65b27"
      },
      "execution_count": null,
      "outputs": [
        {
          "output_type": "stream",
          "name": "stdout",
          "text": [
            "hola\n"
          ]
        }
      ]
    },
    {
      "cell_type": "code",
      "source": [
        "greeting1('it')"
      ],
      "metadata": {
        "colab": {
          "base_uri": "https://localhost:8080/"
        },
        "id": "ajO_IBAcFegG",
        "outputId": "aaef8014-387a-4454-c1b4-5a60b82a7cd9"
      },
      "execution_count": null,
      "outputs": [
        {
          "output_type": "stream",
          "name": "stdout",
          "text": [
            "hello\n"
          ]
        }
      ]
    },
    {
      "cell_type": "markdown",
      "source": [
        "# return value"
      ],
      "metadata": {
        "id": "U_wKTepnFuQ6"
      }
    },
    {
      "cell_type": "code",
      "source": [
        "def greeting2(lang): \n",
        "  if lang == 'es':\n",
        "    return 'hola'\n",
        "  elif lang == 'fr':\n",
        "    return 'bonjour'\n",
        "  else:\n",
        "    return 'hello'"
      ],
      "metadata": {
        "id": "wLgypUoJFwG-"
      },
      "execution_count": null,
      "outputs": []
    },
    {
      "cell_type": "code",
      "source": [
        "print(greeting2('es'))"
      ],
      "metadata": {
        "colab": {
          "base_uri": "https://localhost:8080/"
        },
        "id": "sEbRRIHoF7K-",
        "outputId": "1fba6837-3133-41d8-f2c6-76d9d7f84ae5"
      },
      "execution_count": null,
      "outputs": [
        {
          "output_type": "stream",
          "name": "stdout",
          "text": [
            "hola\n"
          ]
        }
      ]
    },
    {
      "cell_type": "code",
      "source": [
        "result = greeting2('es')\n",
        "print(result)\n",
        "print(result + ' Motaz')"
      ],
      "metadata": {
        "colab": {
          "base_uri": "https://localhost:8080/"
        },
        "id": "9alEzEj9GMeW",
        "outputId": "803f1300-1f0f-4bfa-ad60-b1b6e28cdda8"
      },
      "execution_count": null,
      "outputs": [
        {
          "output_type": "stream",
          "name": "stdout",
          "text": [
            "hola\n",
            "hola Motaz\n"
          ]
        }
      ]
    },
    {
      "cell_type": "code",
      "execution_count": null,
      "metadata": {
        "id": "Zv-kN6t4Ab1Y"
      },
      "outputs": [],
      "source": [
        "# best practice: pass arguments and return value  \n",
        "def increament(x, y): \n",
        "    return x + y "
      ]
    },
    {
      "cell_type": "code",
      "execution_count": null,
      "metadata": {
        "id": "arjNTLwZAb1Z",
        "outputId": "4b022981-d3be-41f3-94c9-6af4b95c6029",
        "colab": {
          "base_uri": "https://localhost:8080/"
        }
      },
      "outputs": [
        {
          "output_type": "execute_result",
          "data": {
            "text/plain": [
              "4"
            ]
          },
          "metadata": {},
          "execution_count": 13
        }
      ],
      "source": [
        "increament(3, 1)"
      ]
    },
    {
      "cell_type": "code",
      "source": [
        "increament(2, 5)"
      ],
      "metadata": {
        "colab": {
          "base_uri": "https://localhost:8080/"
        },
        "id": "2c81Z0m_Gxq-",
        "outputId": "66af7174-2b0a-4e25-fce2-a3fcad7f8d62"
      },
      "execution_count": null,
      "outputs": [
        {
          "output_type": "execute_result",
          "data": {
            "text/plain": [
              "7"
            ]
          },
          "metadata": {},
          "execution_count": 14
        }
      ]
    },
    {
      "cell_type": "code",
      "execution_count": null,
      "metadata": {
        "id": "AvKxhlJyAb1a"
      },
      "outputs": [],
      "source": [
        "# bad practice : make I/O operations inside the function \n",
        "def increament():\n",
        "    x = int(input('x: ')) # input operation\n",
        "    y = int(input('y: ')) # input operation\n",
        "    print(x+y) # output operation\n",
        "    "
      ]
    },
    {
      "cell_type": "code",
      "execution_count": null,
      "metadata": {
        "id": "ncUFjFNIAb1c",
        "outputId": "7482eb05-07e8-4ff7-d6f1-f48062d42dec",
        "colab": {
          "base_uri": "https://localhost:8080/"
        }
      },
      "outputs": [
        {
          "output_type": "stream",
          "name": "stdout",
          "text": [
            "x: 3\n",
            "y: 4\n",
            "7\n"
          ]
        }
      ],
      "source": [
        "increament()"
      ]
    },
    {
      "cell_type": "code",
      "source": [
        "increament() + 1 "
      ],
      "metadata": {
        "colab": {
          "base_uri": "https://localhost:8080/",
          "height": 218
        },
        "id": "n4OuVULDHYCu",
        "outputId": "7b4f40e4-0d86-4560-87a7-65a8c1aff838"
      },
      "execution_count": null,
      "outputs": [
        {
          "output_type": "stream",
          "name": "stdout",
          "text": [
            "x: 3\n",
            "y: 4\n",
            "7\n"
          ]
        },
        {
          "output_type": "error",
          "ename": "TypeError",
          "evalue": "ignored",
          "traceback": [
            "\u001b[0;31m---------------------------------------------------------------------------\u001b[0m",
            "\u001b[0;31mTypeError\u001b[0m                                 Traceback (most recent call last)",
            "\u001b[0;32m<ipython-input-18-aa70a5d45392>\u001b[0m in \u001b[0;36m<module>\u001b[0;34m()\u001b[0m\n\u001b[0;32m----> 1\u001b[0;31m \u001b[0mincreament\u001b[0m\u001b[0;34m(\u001b[0m\u001b[0;34m)\u001b[0m \u001b[0;34m+\u001b[0m \u001b[0;36m1\u001b[0m\u001b[0;34m\u001b[0m\u001b[0;34m\u001b[0m\u001b[0m\n\u001b[0m",
            "\u001b[0;31mTypeError\u001b[0m: unsupported operand type(s) for +: 'NoneType' and 'int'"
          ]
        }
      ]
    },
    {
      "cell_type": "code",
      "execution_count": null,
      "metadata": {
        "id": "48BgxpZXAb1d"
      },
      "outputs": [],
      "source": [
        "# best practice \n",
        "def increament(x, y): \n",
        "    return x + y "
      ]
    },
    {
      "cell_type": "code",
      "execution_count": null,
      "metadata": {
        "id": "HWNypoz4Ab1d",
        "outputId": "a58cc6b6-971d-4865-a021-de3ea451cfbb",
        "colab": {
          "base_uri": "https://localhost:8080/"
        }
      },
      "outputs": [
        {
          "output_type": "stream",
          "name": "stdout",
          "text": [
            "4\n",
            "13\n"
          ]
        }
      ],
      "source": [
        "print(increament(3, 1))\n",
        "z = increament(3, 1) \n",
        "w = increament(4, 5) + z\n",
        "print(w) "
      ]
    },
    {
      "cell_type": "markdown",
      "source": [
        "Write a fucntion that takes the language and the peron's name and return the greeting for that person "
      ],
      "metadata": {
        "id": "7-lKIOVCISIn"
      }
    },
    {
      "cell_type": "code",
      "source": [
        "def greeting(lang, name):\n",
        "  if lang == 'es':\n",
        "    return 'Hola ' + name \n",
        "  elif lang == 'fr':\n",
        "    return 'Bonjour ' + name \n",
        "  else:\n",
        "    return 'Hello ' + name   "
      ],
      "metadata": {
        "id": "OGX-No8zIeBH"
      },
      "execution_count": null,
      "outputs": []
    },
    {
      "cell_type": "code",
      "source": [
        "greeting('fr', 'Elias')"
      ],
      "metadata": {
        "colab": {
          "base_uri": "https://localhost:8080/",
          "height": 35
        },
        "id": "tKi0dcmWIy-v",
        "outputId": "2d47bee9-eb96-4e9b-e886-08bf1cc3c9c1"
      },
      "execution_count": null,
      "outputs": [
        {
          "output_type": "execute_result",
          "data": {
            "application/vnd.google.colaboratory.intrinsic+json": {
              "type": "string"
            },
            "text/plain": [
              "'Bonjour Elias'"
            ]
          },
          "metadata": {},
          "execution_count": 22
        }
      ]
    },
    {
      "cell_type": "code",
      "source": [
        "# more readable code \n",
        "greeting(lang='fr', name='Elias')"
      ],
      "metadata": {
        "colab": {
          "base_uri": "https://localhost:8080/",
          "height": 35
        },
        "id": "w1USlEnNJGn3",
        "outputId": "6330395d-404d-4df7-cf63-ecbdcd90068f"
      },
      "execution_count": null,
      "outputs": [
        {
          "output_type": "execute_result",
          "data": {
            "application/vnd.google.colaboratory.intrinsic+json": {
              "type": "string"
            },
            "text/plain": [
              "'Bonjour Elias'"
            ]
          },
          "metadata": {},
          "execution_count": 23
        }
      ]
    },
    {
      "cell_type": "code",
      "source": [
        "greeting(name='Elias', lang='fr')"
      ],
      "metadata": {
        "colab": {
          "base_uri": "https://localhost:8080/",
          "height": 35
        },
        "id": "tnrlKzC2JSg-",
        "outputId": "c24873d8-3b2a-486e-82ca-214101baf5a1"
      },
      "execution_count": null,
      "outputs": [
        {
          "output_type": "execute_result",
          "data": {
            "application/vnd.google.colaboratory.intrinsic+json": {
              "type": "string"
            },
            "text/plain": [
              "'Bonjour Elias'"
            ]
          },
          "metadata": {},
          "execution_count": 24
        }
      ]
    },
    {
      "cell_type": "code",
      "source": [
        "greeting('Elias', 'fr')"
      ],
      "metadata": {
        "colab": {
          "base_uri": "https://localhost:8080/",
          "height": 35
        },
        "id": "Frb_601pJYlH",
        "outputId": "77f7cfba-58aa-4db7-bb9b-8de75d1f9da4"
      },
      "execution_count": null,
      "outputs": [
        {
          "output_type": "execute_result",
          "data": {
            "application/vnd.google.colaboratory.intrinsic+json": {
              "type": "string"
            },
            "text/plain": [
              "'Hello fr'"
            ]
          },
          "metadata": {},
          "execution_count": 25
        }
      ]
    },
    {
      "cell_type": "code",
      "source": [
        "greeting(name='Yousra', lang='es')"
      ],
      "metadata": {
        "colab": {
          "base_uri": "https://localhost:8080/",
          "height": 35
        },
        "id": "CKx47hslJuPn",
        "outputId": "9f1d58b7-af64-40c8-e28c-5223c817731f"
      },
      "execution_count": null,
      "outputs": [
        {
          "output_type": "execute_result",
          "data": {
            "application/vnd.google.colaboratory.intrinsic+json": {
              "type": "string"
            },
            "text/plain": [
              "'Hola Yousra'"
            ]
          },
          "metadata": {},
          "execution_count": 26
        }
      ]
    },
    {
      "cell_type": "code",
      "source": [
        "greeting(name='Kholoud', lang='en')"
      ],
      "metadata": {
        "colab": {
          "base_uri": "https://localhost:8080/",
          "height": 35
        },
        "id": "gv1Am1ixJ5uX",
        "outputId": "46b1b4af-5aa0-4417-ed03-a9210cd4f9ec"
      },
      "execution_count": null,
      "outputs": [
        {
          "output_type": "execute_result",
          "data": {
            "application/vnd.google.colaboratory.intrinsic+json": {
              "type": "string"
            },
            "text/plain": [
              "'Hello Kholoud'"
            ]
          },
          "metadata": {},
          "execution_count": 27
        }
      ]
    },
    {
      "cell_type": "code",
      "source": [
        "greeting(name='Quientine', lang='en')"
      ],
      "metadata": {
        "colab": {
          "base_uri": "https://localhost:8080/",
          "height": 35
        },
        "id": "hkVk11VTKAO_",
        "outputId": "55b8489a-e9ad-4198-9af2-0b3a6c43b31e"
      },
      "execution_count": null,
      "outputs": [
        {
          "output_type": "execute_result",
          "data": {
            "application/vnd.google.colaboratory.intrinsic+json": {
              "type": "string"
            },
            "text/plain": [
              "'Hello Quientine'"
            ]
          },
          "metadata": {},
          "execution_count": 28
        }
      ]
    },
    {
      "cell_type": "markdown",
      "source": [
        "# mutiple parameters "
      ],
      "metadata": {
        "id": "Lt1H8ZnXKgyG"
      }
    },
    {
      "cell_type": "code",
      "source": [
        "def total(a, b, c, d, e):\n",
        "  result = a+b*c**d-e\n",
        "  return result "
      ],
      "metadata": {
        "id": "IUiksbfoKfq3"
      },
      "execution_count": null,
      "outputs": []
    },
    {
      "cell_type": "code",
      "source": [
        "total(2, 5, 3, 5, 2)"
      ],
      "metadata": {
        "colab": {
          "base_uri": "https://localhost:8080/"
        },
        "id": "f2OdVcCHKwxQ",
        "outputId": "63455efe-a3e3-4037-d55e-bf840af4ed16"
      },
      "execution_count": null,
      "outputs": [
        {
          "output_type": "execute_result",
          "data": {
            "text/plain": [
              "1215"
            ]
          },
          "metadata": {},
          "execution_count": 34
        }
      ]
    },
    {
      "cell_type": "markdown",
      "source": [
        "write a fucntion that takes a 3 numbers and return the max"
      ],
      "metadata": {
        "id": "p8cdvEwrL2IB"
      }
    },
    {
      "cell_type": "markdown",
      "metadata": {
        "id": "KDxnKtNqAb1e"
      },
      "source": [
        "Write the following functions:\n",
        "1. a function that generate a random list \n",
        "2. a fucntion that takes even number input from the user \n",
        "3. a search function that search for the number in the list (search only in even numbers)"
      ]
    },
    {
      "cell_type": "code",
      "execution_count": null,
      "metadata": {
        "id": "iJ8PmrKHAb1f"
      },
      "outputs": [],
      "source": [
        "from random import randint\n",
        "\n",
        "def is_even(x):\n",
        "    if x % 2 == 0:\n",
        "        return True\n",
        "    else:\n",
        "        return False \n",
        "    \n",
        "def is_even2(x):\n",
        "    return x % 2 == 0\n",
        "\n",
        "\n",
        "def gen_list(list_size, max_num):\n",
        "    return [randint(0, max_num) for _ in range(list_size)]\n",
        "\n",
        "def read_even_num():\n",
        "    while True:\n",
        "        num = int(input('plz enter even num: '))\n",
        "        if is_even(num):\n",
        "            break \n",
        "    return num \n",
        "def search(a_list, num):\n",
        "    found = False \n",
        "    for n in a_list:\n",
        "        if not is_even(n):\n",
        "            continue \n",
        "        if n == num:\n",
        "            found = True \n",
        "            break \n",
        "    return found \n",
        "\n",
        "def search2(a_list, num):\n",
        "    found = False \n",
        "    indx = -1 \n",
        "    for i in range(len(a_list)):\n",
        "        if not is_even(a_list[i]):\n",
        "            continue \n",
        "        if a_list[i] == num:\n",
        "            found = True \n",
        "            indx = i \n",
        "    return found, indx \n",
        "           \n",
        "            "
      ]
    },
    {
      "cell_type": "code",
      "execution_count": null,
      "metadata": {
        "id": "ljQ0XD60Ab1g",
        "outputId": "bb0a7e2c-0ee0-485f-db4d-78514447860a"
      },
      "outputs": [
        {
          "name": "stdin",
          "output_type": "stream",
          "text": [
            "plz enter even num:  8\n"
          ]
        },
        {
          "data": {
            "text/plain": [
              "True"
            ]
          },
          "execution_count": 16,
          "metadata": {},
          "output_type": "execute_result"
        }
      ],
      "source": [
        "l1 = gen_list(1000, 10)\n",
        "number = read_even_num()\n",
        "search(l1, number)"
      ]
    },
    {
      "cell_type": "code",
      "execution_count": null,
      "metadata": {
        "id": "eYTOUkTKAb1g",
        "outputId": "7ce0100c-eb8a-426d-82ec-af82c3cf9544"
      },
      "outputs": [
        {
          "name": "stdin",
          "output_type": "stream",
          "text": [
            "plz enter even num:  8\n"
          ]
        },
        {
          "data": {
            "text/plain": [
              "(True, 998)"
            ]
          },
          "execution_count": 17,
          "metadata": {},
          "output_type": "execute_result"
        }
      ],
      "source": [
        "l1 = gen_list(list_size=1000, max_num=10)\n",
        "number = read_even_num()\n",
        "search2(num=number, a_list=l1)"
      ]
    },
    {
      "cell_type": "code",
      "execution_count": null,
      "metadata": {
        "id": "Ntcp7X5SAb1h",
        "outputId": "8eb64f55-226a-42b9-fd02-4f35ad992722"
      },
      "outputs": [
        {
          "name": "stdin",
          "output_type": "stream",
          "text": [
            "plz enter even num:  20\n"
          ]
        },
        {
          "data": {
            "text/plain": [
              "(False, -1)"
            ]
          },
          "execution_count": 18,
          "metadata": {},
          "output_type": "execute_result"
        }
      ],
      "source": [
        "l1 = gen_list(list_size=1000, max_num=10)\n",
        "number = read_even_num()\n",
        "search2(num=number, a_list=l1)"
      ]
    },
    {
      "cell_type": "code",
      "execution_count": null,
      "metadata": {
        "id": "WjLxbOKpAb1h",
        "outputId": "f2e24b41-8daf-429d-d8b4-930e53e2bd17"
      },
      "outputs": [
        {
          "data": {
            "text/plain": [
              "-1"
            ]
          },
          "execution_count": 11,
          "metadata": {},
          "output_type": "execute_result"
        }
      ],
      "source": [
        "'hello'.find('a')"
      ]
    },
    {
      "cell_type": "code",
      "execution_count": null,
      "metadata": {
        "id": "TLcd74c3Ab1h",
        "outputId": "9d1ae2a0-9156-41ee-e192-51e4e5c55f13"
      },
      "outputs": [
        {
          "data": {
            "text/plain": [
              "1"
            ]
          },
          "execution_count": 12,
          "metadata": {},
          "output_type": "execute_result"
        }
      ],
      "source": [
        "'hello'.find('e')"
      ]
    },
    {
      "cell_type": "code",
      "execution_count": null,
      "metadata": {
        "id": "SsIDZDdKAb1i",
        "outputId": "eb276e05-480d-417d-8eb6-fc46e2366f46"
      },
      "outputs": [
        {
          "data": {
            "text/plain": [
              "False"
            ]
          },
          "execution_count": 13,
          "metadata": {},
          "output_type": "execute_result"
        }
      ],
      "source": [
        "2 in [1, 3, 6]"
      ]
    },
    {
      "cell_type": "code",
      "execution_count": null,
      "metadata": {
        "id": "HsvBqi27Ab1i"
      },
      "outputs": [],
      "source": [
        "def increment(number=1, by=1): # function with default parameters\n",
        "    return number + by  "
      ]
    },
    {
      "cell_type": "code",
      "execution_count": null,
      "metadata": {
        "id": "8n_4MY3yAb1j",
        "outputId": "2c4686ea-cd3d-42f5-c024-38de99f62440"
      },
      "outputs": [
        {
          "data": {
            "text/plain": [
              "2"
            ]
          },
          "execution_count": 20,
          "metadata": {},
          "output_type": "execute_result"
        }
      ],
      "source": [
        "increment()"
      ]
    },
    {
      "cell_type": "code",
      "execution_count": null,
      "metadata": {
        "id": "IsMf_J42Ab1j",
        "outputId": "74e138b1-b4dd-4566-8769-064e67aeceaa"
      },
      "outputs": [
        {
          "data": {
            "text/plain": [
              "4"
            ]
          },
          "execution_count": 21,
          "metadata": {},
          "output_type": "execute_result"
        }
      ],
      "source": [
        "increment(number=3, by=1)"
      ]
    },
    {
      "cell_type": "code",
      "execution_count": null,
      "metadata": {
        "id": "H0Af5E8kAb1j"
      },
      "outputs": [],
      "source": [
        "def increment(number=1, by=1): # function with default parameters\n",
        "    return (number, number + by )"
      ]
    },
    {
      "cell_type": "code",
      "execution_count": null,
      "metadata": {
        "id": "ItjbgyrJAb1k",
        "outputId": "96a146d5-083c-4ad7-8552-b12f4f6f6224"
      },
      "outputs": [
        {
          "data": {
            "text/plain": [
              "(4, 14)"
            ]
          },
          "execution_count": 24,
          "metadata": {},
          "output_type": "execute_result"
        }
      ],
      "source": [
        "increment(number=4, by=10)"
      ]
    },
    {
      "cell_type": "code",
      "execution_count": null,
      "metadata": {
        "id": "9lIbZk9fAb1k",
        "outputId": "ec2757da-7c2d-4ad1-efe3-af637581f3bc"
      },
      "outputs": [
        {
          "data": {
            "text/plain": [
              "False"
            ]
          },
          "execution_count": 25,
          "metadata": {},
          "output_type": "execute_result"
        }
      ],
      "source": [
        "2 in (1, 3, 6)"
      ]
    }
  ],
  "metadata": {
    "kernelspec": {
      "display_name": "Python 3",
      "language": "python",
      "name": "python3"
    },
    "language_info": {
      "codemirror_mode": {
        "name": "ipython",
        "version": 3
      },
      "file_extension": ".py",
      "mimetype": "text/x-python",
      "name": "python",
      "nbconvert_exporter": "python",
      "pygments_lexer": "ipython3",
      "version": "3.7.0"
    },
    "colab": {
      "name": "functions.ipynb",
      "provenance": []
    }
  },
  "nbformat": 4,
  "nbformat_minor": 0
}