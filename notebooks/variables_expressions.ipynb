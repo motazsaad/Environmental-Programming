{
  "nbformat": 4,
  "nbformat_minor": 0,
  "metadata": {
    "colab": {
      "name": "note1.ipynb",
      "provenance": [],
      "collapsed_sections": []
    },
    "kernelspec": {
      "name": "python3",
      "display_name": "Python 3"
    },
    "language_info": {
      "name": "python"
    }
  },
  "cells": [
    {
      "cell_type": "code",
      "metadata": {
        "colab": {
          "base_uri": "https://localhost:8080/"
        },
        "id": "UpKOHUe2G9bM",
        "outputId": "643a35d8-7919-4ffd-d11a-5809c63647a8"
      },
      "source": [
        "x = 10 \n",
        "print(x)"
      ],
      "execution_count": null,
      "outputs": [
        {
          "output_type": "stream",
          "name": "stdout",
          "text": [
            "10\n"
          ]
        }
      ]
    },
    {
      "cell_type": "markdown",
      "metadata": {
        "id": "DOoC27r2HHTy"
      },
      "source": [
        "# Intro outline \n",
        "\n",
        "* Variables & types \n",
        "* Variables Naming convention\n",
        "* Expressions \n",
        "* Operator Precedence Rules \n",
        "* Type conversions \n",
        "* Integer Division \n",
        "* User input \n",
        "* Comments in the code \n",
        "\n"
      ]
    },
    {
      "cell_type": "markdown",
      "metadata": {
        "id": "1adu_eI3I-ny"
      },
      "source": [
        "# Variables and Types"
      ]
    },
    {
      "cell_type": "markdown",
      "metadata": {
        "id": "aHvplsWHkvIM"
      },
      "source": [
        "# a variable is name of a place in memory "
      ]
    },
    {
      "cell_type": "code",
      "metadata": {
        "colab": {
          "base_uri": "https://localhost:8080/"
        },
        "id": "P-1KiPuxk63k",
        "outputId": "69a0b410-5585-4ba1-f896-1036c1ac08d9"
      },
      "source": [
        "x = 10\n",
        "print(x)\n",
        "x = x + 1 \n",
        "print(x)\n",
        "x = 101\n",
        "print(x)"
      ],
      "execution_count": null,
      "outputs": [
        {
          "output_type": "stream",
          "name": "stdout",
          "text": [
            "10\n",
            "11\n",
            "101\n"
          ]
        }
      ]
    },
    {
      "cell_type": "markdown",
      "metadata": {
        "id": "hjhYl4a0lI7R"
      },
      "source": [
        "# constant "
      ]
    },
    {
      "cell_type": "code",
      "metadata": {
        "colab": {
          "base_uri": "https://localhost:8080/"
        },
        "id": "6UrMgT1ylHsk",
        "outputId": "2049baec-42be-4664-f542-035f17cfd348"
      },
      "source": [
        "print(22)"
      ],
      "execution_count": null,
      "outputs": [
        {
          "output_type": "stream",
          "name": "stdout",
          "text": [
            "22\n"
          ]
        }
      ]
    },
    {
      "cell_type": "code",
      "metadata": {
        "id": "Rbo3whsvH3yx"
      },
      "source": [
        "x = 10 # int \n",
        "y = 12.5 # float \n",
        "z = 'abc' # str\n",
        "a = True # bool "
      ],
      "execution_count": null,
      "outputs": []
    },
    {
      "cell_type": "code",
      "metadata": {
        "colab": {
          "base_uri": "https://localhost:8080/"
        },
        "id": "zRGFeKiPIMi6",
        "outputId": "940aeaa7-9af4-405a-ec4f-5d8aa153cef4"
      },
      "source": [
        "type(x)"
      ],
      "execution_count": null,
      "outputs": [
        {
          "output_type": "execute_result",
          "data": {
            "text/plain": [
              "int"
            ]
          },
          "metadata": {},
          "execution_count": 2
        }
      ]
    },
    {
      "cell_type": "code",
      "metadata": {
        "colab": {
          "base_uri": "https://localhost:8080/"
        },
        "id": "B6_9vAGhISMC",
        "outputId": "18f54f87-9867-46dc-cc60-a05de4cca0e0"
      },
      "source": [
        "type(y)"
      ],
      "execution_count": null,
      "outputs": [
        {
          "output_type": "execute_result",
          "data": {
            "text/plain": [
              "float"
            ]
          },
          "metadata": {},
          "execution_count": 3
        }
      ]
    },
    {
      "cell_type": "code",
      "metadata": {
        "colab": {
          "base_uri": "https://localhost:8080/"
        },
        "id": "sdKUt6TaITtq",
        "outputId": "97ae6e3d-5509-4aa6-a6b3-9152ae0ab70b"
      },
      "source": [
        "type(z)"
      ],
      "execution_count": null,
      "outputs": [
        {
          "output_type": "execute_result",
          "data": {
            "text/plain": [
              "str"
            ]
          },
          "metadata": {},
          "execution_count": 4
        }
      ]
    },
    {
      "cell_type": "code",
      "metadata": {
        "colab": {
          "base_uri": "https://localhost:8080/"
        },
        "id": "SY_lZsv7Ii_h",
        "outputId": "4e5d9b3a-e085-4d1b-eaed-35b9a140fa27"
      },
      "source": [
        "type(a)"
      ],
      "execution_count": null,
      "outputs": [
        {
          "output_type": "execute_result",
          "data": {
            "text/plain": [
              "bool"
            ]
          },
          "metadata": {},
          "execution_count": 5
        }
      ]
    },
    {
      "cell_type": "code",
      "metadata": {
        "colab": {
          "base_uri": "https://localhost:8080/"
        },
        "id": "yFeAftKKjp60",
        "outputId": "36740783-d529-43d9-fd32-d7b7e6b93b4f"
      },
      "source": [
        "x = 10 \n",
        "print(type(x))\n",
        "x = 12.4\n",
        "print(type(x))"
      ],
      "execution_count": null,
      "outputs": [
        {
          "output_type": "stream",
          "name": "stdout",
          "text": [
            "<class 'int'>\n",
            "<class 'float'>\n"
          ]
        }
      ]
    },
    {
      "cell_type": "markdown",
      "metadata": {
        "id": "yfyIEmGDI4Pi"
      },
      "source": [
        "# Naming convension \n",
        "\n",
        "Varaible name should be a noun or a noun phrase "
      ]
    },
    {
      "cell_type": "code",
      "metadata": {
        "id": "ymFn_MzTJHiK"
      },
      "source": [
        "# bad names\n",
        "x = 100  \n",
        "a = 12.15 \n",
        "\n",
        "\n",
        "# good names: noun or noun phrase  \n",
        "temprature = 17 \n",
        "wind_speed = 35 "
      ],
      "execution_count": null,
      "outputs": []
    },
    {
      "cell_type": "markdown",
      "metadata": {
        "id": "Iff-39D-l45r"
      },
      "source": [
        "# expressions "
      ]
    },
    {
      "cell_type": "code",
      "metadata": {
        "colab": {
          "base_uri": "https://localhost:8080/"
        },
        "id": "DyyKPkGkl6n0",
        "outputId": "bdde8623-fff6-4a25-ea6e-e0cbef560eda"
      },
      "source": [
        "x = 3.5 * 2 - 5\n",
        "print(x)"
      ],
      "execution_count": null,
      "outputs": [
        {
          "output_type": "stream",
          "name": "stdout",
          "text": [
            "2.0\n"
          ]
        }
      ]
    },
    {
      "cell_type": "code",
      "metadata": {
        "colab": {
          "base_uri": "https://localhost:8080/"
        },
        "id": "eFUeXmI5mEU3",
        "outputId": "fb70b4d3-9bf6-4315-c88f-8ea7de9a7b96"
      },
      "source": [
        "x = 3.5 * (2 - 5)\n",
        "print(x)"
      ],
      "execution_count": null,
      "outputs": [
        {
          "output_type": "stream",
          "name": "stdout",
          "text": [
            "-10.5\n"
          ]
        }
      ]
    },
    {
      "cell_type": "markdown",
      "metadata": {
        "id": "XWbGfx1QmQ9L"
      },
      "source": [
        "# Type conversions"
      ]
    },
    {
      "cell_type": "code",
      "metadata": {
        "colab": {
          "base_uri": "https://localhost:8080/",
          "height": 35
        },
        "id": "cRY8pS4BmUGb",
        "outputId": "7fcb09dc-4c50-4919-a3a6-44bb5603e6c1"
      },
      "source": [
        "'123' + '1' # concat "
      ],
      "execution_count": null,
      "outputs": [
        {
          "output_type": "execute_result",
          "data": {
            "application/vnd.google.colaboratory.intrinsic+json": {
              "type": "string"
            },
            "text/plain": [
              "'1231'"
            ]
          },
          "metadata": {},
          "execution_count": 12
        }
      ]
    },
    {
      "cell_type": "code",
      "metadata": {
        "colab": {
          "base_uri": "https://localhost:8080/"
        },
        "id": "3emIAfLcmzvs",
        "outputId": "83cc348c-cb98-403a-fa83-30b451312207"
      },
      "source": [
        "123 + 1 "
      ],
      "execution_count": null,
      "outputs": [
        {
          "output_type": "execute_result",
          "data": {
            "text/plain": [
              "124"
            ]
          },
          "metadata": {},
          "execution_count": 13
        }
      ]
    },
    {
      "cell_type": "code",
      "metadata": {
        "colab": {
          "base_uri": "https://localhost:8080/",
          "height": 166
        },
        "id": "E6QfpzkEm4MV",
        "outputId": "da2a5639-db4c-469b-e7bd-f5e150f0ad96"
      },
      "source": [
        "'123' + 1"
      ],
      "execution_count": null,
      "outputs": [
        {
          "output_type": "error",
          "ename": "TypeError",
          "evalue": "ignored",
          "traceback": [
            "\u001b[0;31m---------------------------------------------------------------------------\u001b[0m",
            "\u001b[0;31mTypeError\u001b[0m                                 Traceback (most recent call last)",
            "\u001b[0;32m<ipython-input-14-838f28850dce>\u001b[0m in \u001b[0;36m<module>\u001b[0;34m()\u001b[0m\n\u001b[0;32m----> 1\u001b[0;31m \u001b[0;34m'123'\u001b[0m \u001b[0;34m+\u001b[0m \u001b[0;36m1\u001b[0m\u001b[0;34m\u001b[0m\u001b[0;34m\u001b[0m\u001b[0m\n\u001b[0m",
            "\u001b[0;31mTypeError\u001b[0m: can only concatenate str (not \"int\") to str"
          ]
        }
      ]
    },
    {
      "cell_type": "code",
      "metadata": {
        "colab": {
          "base_uri": "https://localhost:8080/"
        },
        "id": "IsUna7TEnLmn",
        "outputId": "ac2bd936-911c-4c8e-a01e-2a14dd2ee904"
      },
      "source": [
        "# type converion \n",
        "int('123') + 1"
      ],
      "execution_count": null,
      "outputs": [
        {
          "output_type": "execute_result",
          "data": {
            "text/plain": [
              "124"
            ]
          },
          "metadata": {},
          "execution_count": 15
        }
      ]
    },
    {
      "cell_type": "code",
      "metadata": {
        "colab": {
          "base_uri": "https://localhost:8080/"
        },
        "id": "WXOxXWHunXQF",
        "outputId": "b81b331e-0200-4720-b426-23b3d69e51b6"
      },
      "source": [
        "x = input('please enter a number: ')\n",
        "print(type(x))\n",
        "float(x) + 1"
      ],
      "execution_count": null,
      "outputs": [
        {
          "output_type": "stream",
          "name": "stdout",
          "text": [
            "please enter a number: 12.3\n",
            "<class 'str'>\n"
          ]
        },
        {
          "output_type": "execute_result",
          "data": {
            "text/plain": [
              "13.3"
            ]
          },
          "metadata": {},
          "execution_count": 19
        }
      ]
    },
    {
      "cell_type": "code",
      "metadata": {
        "colab": {
          "base_uri": "https://localhost:8080/"
        },
        "id": "uLlAac5Vnmkt",
        "outputId": "1044a321-99ac-4d25-8226-62c4e77c130d"
      },
      "source": [
        "# power 2 * 2 * 2 \n",
        "2 ** 3 # power 2 * 2 * 2  "
      ],
      "execution_count": null,
      "outputs": [
        {
          "output_type": "execute_result",
          "data": {
            "text/plain": [
              "8"
            ]
          },
          "metadata": {},
          "execution_count": 20
        }
      ]
    },
    {
      "cell_type": "code",
      "metadata": {
        "id": "zmYD8VmTo2Bk"
      },
      "source": [
        "def f1(a, b):\n",
        "  c = a + b \n",
        "  return c "
      ],
      "execution_count": null,
      "outputs": []
    },
    {
      "cell_type": "code",
      "metadata": {
        "colab": {
          "base_uri": "https://localhost:8080/"
        },
        "id": "LU8G_ANSpFLz",
        "outputId": "4cec8721-d351-4d66-93e1-e9f63a0051e9"
      },
      "source": [
        "f1(3, 4)"
      ],
      "execution_count": null,
      "outputs": [
        {
          "output_type": "execute_result",
          "data": {
            "text/plain": [
              "7"
            ]
          },
          "metadata": {},
          "execution_count": 22
        }
      ]
    },
    {
      "cell_type": "code",
      "metadata": {
        "colab": {
          "base_uri": "https://localhost:8080/"
        },
        "id": "Cp8RhQrRpo8T",
        "outputId": "7c7a7d12-89e1-4880-fe73-72ed95cebd72"
      },
      "source": [
        "23 / 5"
      ],
      "execution_count": null,
      "outputs": [
        {
          "output_type": "execute_result",
          "data": {
            "text/plain": [
              "4.6"
            ]
          },
          "metadata": {},
          "execution_count": 23
        }
      ]
    },
    {
      "cell_type": "code",
      "metadata": {
        "colab": {
          "base_uri": "https://localhost:8080/"
        },
        "id": "R03SiHVQqBvL",
        "outputId": "d2d60b47-e1f8-493b-ccfe-8057d9f97875"
      },
      "source": [
        "23 % 5 "
      ],
      "execution_count": null,
      "outputs": [
        {
          "output_type": "execute_result",
          "data": {
            "text/plain": [
              "3"
            ]
          },
          "metadata": {},
          "execution_count": 24
        }
      ]
    },
    {
      "cell_type": "code",
      "metadata": {
        "colab": {
          "base_uri": "https://localhost:8080/"
        },
        "id": "ptIcWZIJrGN0",
        "outputId": "6fbdc40f-f3a7-4775-f598-a488f1160ef1"
      },
      "source": [
        "23 // 5 "
      ],
      "execution_count": null,
      "outputs": [
        {
          "output_type": "execute_result",
          "data": {
            "text/plain": [
              "4"
            ]
          },
          "metadata": {},
          "execution_count": 28
        }
      ]
    },
    {
      "cell_type": "code",
      "metadata": {
        "colab": {
          "base_uri": "https://localhost:8080/"
        },
        "id": "VI9PcpMbqUwD",
        "outputId": "a6675099-eaef-4d45-fa08-fb4e8c8919ac"
      },
      "source": [
        "4 * 5 "
      ],
      "execution_count": null,
      "outputs": [
        {
          "output_type": "execute_result",
          "data": {
            "text/plain": [
              "20"
            ]
          },
          "metadata": {},
          "execution_count": 25
        }
      ]
    },
    {
      "cell_type": "code",
      "metadata": {
        "colab": {
          "base_uri": "https://localhost:8080/"
        },
        "id": "bJcXK31IqZwr",
        "outputId": "96acd971-a9fd-456f-a3b8-0b3e3ebfa77b"
      },
      "source": [
        "divmod(23, 5)"
      ],
      "execution_count": null,
      "outputs": [
        {
          "output_type": "execute_result",
          "data": {
            "text/plain": [
              "(4, 3)"
            ]
          },
          "metadata": {},
          "execution_count": 27
        }
      ]
    },
    {
      "cell_type": "code",
      "metadata": {
        "id": "uxxLj3QNsV99"
      },
      "source": [
        "# int + int = int \n",
        "# int + float = float \n",
        "# int / int = ??? "
      ],
      "execution_count": null,
      "outputs": []
    },
    {
      "cell_type": "code",
      "metadata": {
        "colab": {
          "base_uri": "https://localhost:8080/"
        },
        "id": "t6AjI_8Hs0_j",
        "outputId": "49c98418-5e92-49ab-fa7d-315cc6561b79"
      },
      "source": [
        "4 + 7.5 "
      ],
      "execution_count": null,
      "outputs": [
        {
          "output_type": "execute_result",
          "data": {
            "text/plain": [
              "11.5"
            ]
          },
          "metadata": {},
          "execution_count": 29
        }
      ]
    },
    {
      "cell_type": "code",
      "metadata": {
        "colab": {
          "base_uri": "https://localhost:8080/"
        },
        "id": "ObjDIB4ntMIo",
        "outputId": "4cc4d90f-470a-40d2-b8fc-c9789015a892"
      },
      "source": [
        "10 / 5"
      ],
      "execution_count": null,
      "outputs": [
        {
          "output_type": "execute_result",
          "data": {
            "text/plain": [
              "2.0"
            ]
          },
          "metadata": {},
          "execution_count": 30
        }
      ]
    },
    {
      "cell_type": "code",
      "metadata": {
        "colab": {
          "base_uri": "https://localhost:8080/"
        },
        "id": "FSTGS2XDtfcs",
        "outputId": "e8133a95-4f55-46de-8b84-734deaf9ed41"
      },
      "source": [
        "name = input('please enter your name: ')\n",
        "print('welcome', name)\n",
        "print(type(name))"
      ],
      "execution_count": null,
      "outputs": [
        {
          "output_type": "stream",
          "name": "stdout",
          "text": [
            "please enter your name: Motaz\n",
            "welcome Motaz\n",
            "<class 'str'>\n"
          ]
        }
      ]
    },
    {
      "cell_type": "code",
      "metadata": {
        "colab": {
          "base_uri": "https://localhost:8080/"
        },
        "id": "tQv_j0YYt-1D",
        "outputId": "358d0362-6431-4948-9984-87c19b05fb97"
      },
      "source": [
        "num1 = int(input('plz enter num1: '))\n",
        "num2 = int(input('plz enter num2: '))\n",
        "print(num1 + num2)\n",
        "print(num1 - num2)"
      ],
      "execution_count": null,
      "outputs": [
        {
          "output_type": "stream",
          "name": "stdout",
          "text": [
            "plz enter num1: 5\n",
            "plz enter num2: 3\n",
            "8\n",
            "2\n"
          ]
        }
      ]
    },
    {
      "cell_type": "code",
      "metadata": {
        "colab": {
          "base_uri": "https://localhost:8080/",
          "height": 235
        },
        "id": "PKtbukUvvWI1",
        "outputId": "8c862380-0039-4f34-b396-e6c629c96417"
      },
      "source": [
        "num1 = int(input('plz enter num1: '))\n",
        "num2 = int(input('plz enter num2: '))\n",
        "print(num1 + num2)\n",
        "print(num1 - num2)"
      ],
      "execution_count": null,
      "outputs": [
        {
          "name": "stdout",
          "output_type": "stream",
          "text": [
            "plz enter num1: Motaz\n"
          ]
        },
        {
          "output_type": "error",
          "ename": "ValueError",
          "evalue": "ignored",
          "traceback": [
            "\u001b[0;31m---------------------------------------------------------------------------\u001b[0m",
            "\u001b[0;31mValueError\u001b[0m                                Traceback (most recent call last)",
            "\u001b[0;32m<ipython-input-38-5f8858a00cb5>\u001b[0m in \u001b[0;36m<module>\u001b[0;34m()\u001b[0m\n\u001b[0;32m----> 1\u001b[0;31m \u001b[0mnum1\u001b[0m \u001b[0;34m=\u001b[0m \u001b[0mint\u001b[0m\u001b[0;34m(\u001b[0m\u001b[0minput\u001b[0m\u001b[0;34m(\u001b[0m\u001b[0;34m'plz enter num1: '\u001b[0m\u001b[0;34m)\u001b[0m\u001b[0;34m)\u001b[0m\u001b[0;34m\u001b[0m\u001b[0;34m\u001b[0m\u001b[0m\n\u001b[0m\u001b[1;32m      2\u001b[0m \u001b[0mnum2\u001b[0m \u001b[0;34m=\u001b[0m \u001b[0mint\u001b[0m\u001b[0;34m(\u001b[0m\u001b[0minput\u001b[0m\u001b[0;34m(\u001b[0m\u001b[0;34m'plz enter num2: '\u001b[0m\u001b[0;34m)\u001b[0m\u001b[0;34m)\u001b[0m\u001b[0;34m\u001b[0m\u001b[0;34m\u001b[0m\u001b[0m\n\u001b[1;32m      3\u001b[0m \u001b[0mprint\u001b[0m\u001b[0;34m(\u001b[0m\u001b[0mnum1\u001b[0m \u001b[0;34m+\u001b[0m \u001b[0mnum2\u001b[0m\u001b[0;34m)\u001b[0m\u001b[0;34m\u001b[0m\u001b[0;34m\u001b[0m\u001b[0m\n\u001b[1;32m      4\u001b[0m \u001b[0mprint\u001b[0m\u001b[0;34m(\u001b[0m\u001b[0mnum1\u001b[0m \u001b[0;34m-\u001b[0m \u001b[0mnum2\u001b[0m\u001b[0;34m)\u001b[0m\u001b[0;34m\u001b[0m\u001b[0;34m\u001b[0m\u001b[0m\n",
            "\u001b[0;31mValueError\u001b[0m: invalid literal for int() with base 10: 'Motaz'"
          ]
        }
      ]
    },
    {
      "cell_type": "code",
      "metadata": {
        "colab": {
          "base_uri": "https://localhost:8080/"
        },
        "id": "1sRv4IcmvgtU",
        "outputId": "628b15cd-fde5-42aa-c422-ee9b08028cb8"
      },
      "source": [
        "num1 = float(input('plz enter num1: '))\n",
        "num2 = float(input('plz enter num2: '))\n",
        "print(num1 + num2)\n",
        "# print(num1 - num2)"
      ],
      "execution_count": null,
      "outputs": [
        {
          "output_type": "stream",
          "name": "stdout",
          "text": [
            "plz enter num1: 2\n",
            "plz enter num2: 5\n",
            "7.0\n"
          ]
        }
      ]
    },
    {
      "cell_type": "code",
      "metadata": {
        "id": "B3DJrdf3wmlD"
      },
      "source": [
        "# this is a comment  \n",
        "x = 10 # define the factor x "
      ],
      "execution_count": null,
      "outputs": []
    },
    {
      "cell_type": "markdown",
      "metadata": {
        "id": "-5IQMarXwrmT"
      },
      "source": [
        "# this is a header "
      ]
    }
  ]
}